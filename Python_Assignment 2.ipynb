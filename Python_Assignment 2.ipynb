{
 "cells": [
  {
   "cell_type": "code",
   "execution_count": 1,
   "metadata": {},
   "outputs": [
    {
     "name": "stdout",
     "output_type": "stream",
     "text": [
      "\n",
      "#Without passing function as argument\n",
      "Reduced Value is:  -4\n",
      "\n",
      "#Passing function as argument\n",
      "Reduced Value is:  -4\n",
      "\n",
      "#Passing function and iniital value as argument\n",
      "Reduced Value is:  4\n",
      "\n",
      "#Using single function and initial value\n",
      "Reduced Value is:  4\n"
     ]
    }
   ],
   "source": [
    "#Task 1\n",
    "#1.1 Write a Python Program to implement your own myreduce() function which works exactly like Python's built-in function reduce()\n",
    "\n",
    "#Without passing function as argument\n",
    "print(\"\\n#Without passing function as argument\")\n",
    "def second_function(x,y):\n",
    "    return x-y\n",
    "\n",
    "def my_reduce(sequence):\n",
    "    total=sequence[0]\n",
    "    for i in sequence[1:]:\n",
    "        total=second_function(total,i)\n",
    "    return(total)\n",
    "\n",
    "final_value=my_reduce([2,3,3])\n",
    "print(\"Reduced Value is: \" ,final_value)\n",
    "\n",
    "#Passing function as argument\n",
    "print(\"\\n#Passing function as argument\")\n",
    "def second_function(x,y):\n",
    "    return x-y\n",
    "\n",
    "def my_reduce(second_func,sequence):\n",
    "    total=sequence[0]\n",
    "    for i in sequence[1:]:\n",
    "        total=second_func(total,i)\n",
    "    return(total)\n",
    "\n",
    "final_value=my_reduce(second_function,[2,3,3])\n",
    "print(\"Reduced Value is: \" ,final_value)\n",
    "\n",
    "#Passing function and iniital value as argument\n",
    "print(\"\\n#Passing function and iniital value as argument\")\n",
    "def second_function(x,y):\n",
    "    return x-y\n",
    "\n",
    "def my_reduce(second_function,sequence,initial):\n",
    "    for i in sequence[1:]:\n",
    "        initial=second_function(initial,i)\n",
    "    return(initial)\n",
    "\n",
    "final_value=my_reduce(second_function,[2,3,3],10)\n",
    "print(\"Reduced Value is: \" ,final_value)\n",
    "\n",
    "#Using single function and initial value\n",
    "print(\"\\n#Using single function and initial value\")\n",
    "\n",
    "def my_reduce(sequence,initial):\n",
    "    for i in sequence[1:]:\n",
    "        initial=initial-i\n",
    "    return(initial)\n",
    "\n",
    "final_value=my_reduce([2,3,3],10)\n",
    "print(\"Reduced Value is: \" ,final_value)\n"
   ]
  },
  {
   "cell_type": "code",
   "execution_count": 2,
   "metadata": {},
   "outputs": [
    {
     "name": "stdout",
     "output_type": "stream",
     "text": [
      "\n",
      "#using two function\n",
      "The filtered List is : [70, 21, 35]\n",
      "\n",
      "#using single function\n",
      "The filtered List is : [70, 21, 35]\n"
     ]
    }
   ],
   "source": [
    "#1.2 Write a Python program to implement your own myfilter()\n",
    "#function which works exactly like Python's built-in function filter()\n",
    "\n",
    "#using two function\n",
    "print(\"\\n#using two function\")\n",
    "def second_function(x):\n",
    "    return x%7==0\n",
    "\n",
    "def my_filter(second_func,input_list):\n",
    "    filtered=[]\n",
    "    for i in input_list:\n",
    "        second =second_func(i)\n",
    "        if second==True:\n",
    "            filtered.append(i)\n",
    "    return(filtered)\n",
    "\n",
    "filtered_list=my_filter(second_function,[70,21,35,40])\n",
    "print(\"The filtered List is :\" ,filtered_list)\n",
    "\n",
    "\n",
    "#using single function\n",
    "print(\"\\n#using single function\")\n",
    "def my_filter(input_list):\n",
    "    filtered = []\n",
    "    for i in input_list:\n",
    "        if i%7==0:\n",
    "            filtered.append(i)\n",
    "    return(filtered)\n",
    "\n",
    "filtered_list=my_filter([70,21,35,40])\n",
    "print(\"The filtered List is :\" ,filtered_list)"
   ]
  },
  {
   "cell_type": "code",
   "execution_count": 3,
   "metadata": {},
   "outputs": [
    {
     "name": "stdout",
     "output_type": "stream",
     "text": [
      "['A', 'C', 'A', 'D', 'G', 'I', 'L', 'D']\n",
      "['x', 'xx', 'xxx', 'xxxx', 'y', 'yy', 'yyy', 'yyyy', 'z', 'zz', 'zzz', 'zzzz']\n",
      "['x', 'y', 'z', 'xx', 'yy', 'zz', 'xxx', 'yyy', 'zzz', 'xxxx', 'yyyy', 'zzzz']\n",
      "[[2], [3], [4], [3], [4], [5], [4], [5], [6]]\n",
      "[[2, 3, 4, 5], [3, 4, 5, 6], [4, 5, 6, 7], [5, 6, 7, 8], [6, 7, 8, 9]]\n",
      "[(1, 1), (2, 1), (3, 1), (1, 2), (2, 2), (3, 2), (1, 3), (2, 3), (3, 3)]\n"
     ]
    }
   ],
   "source": [
    "#2 Implement List comprehensions to produce the following lists.\n",
    "#Write List comprehensions to produce the following Lists\n",
    "\n",
    "#['A', 'C', 'A', 'D', 'G', 'I', ’L’, ‘ D’]\n",
    "string=\"ACADGILD\"\n",
    "list=[i for i in string]\n",
    "print(list)\n",
    "\n",
    "#['x', 'xx', 'xxx', 'xxxx', 'y', 'yy', 'yyy', 'yyyy', 'z', 'zz', 'zzz', 'zzzz']\n",
    "\n",
    "xyz=[\"x\",\"y\",\"z\"]\n",
    "final_list= [i*j for i in xyz  for j in range(1,5)]\n",
    "print(final_list)\n",
    "\n",
    "#['x', 'y', 'z', 'xx', 'yy', 'zz', 'xx', 'yy', 'zz', 'xxxx', 'yyyy', 'zzzz']\n",
    "\n",
    "xyz=[\"x\",\"y\",\"z\"]\n",
    "final_xyz=[j*i for i in range(1,5) for j in xyz]\n",
    "print(str(final_xyz))\n",
    "\n",
    "#[[2], [3], [4], [3], [4], [5], [4], [5], [6]]\n",
    "final_num=[[i+j] for i in range(2,5) for j in range(3)]\n",
    "print(final_num)\n",
    "\n",
    "#[[2, 3, 4, 5], [3, 4, 5, 6], [4, 5, 6, 7], [5, 6, 7, 8]]\n",
    "final_num=[[i+j for i in range(2,6)] for j in range(5)]\n",
    "print(final_num)\n",
    "\n",
    "#[(1, 1), (2, 1), (3, 1), (1, 2), (2, 2), (3, 2), (1, 3), (2, 3), (3, 3)]\n",
    "final_num=[(j,i) for i in range(1,4) for j in range(1,4)]\n",
    "print(final_num)\n",
    "\n",
    "\n",
    "\n",
    "\n"
   ]
  },
  {
   "cell_type": "code",
   "execution_count": 4,
   "metadata": {},
   "outputs": [
    {
     "name": "stdout",
     "output_type": "stream",
     "text": [
      "Please enter your input: Hello Welcome Muthukrishnan\n",
      "Muthukrishnan\n"
     ]
    }
   ],
   "source": [
    "#3 Implement a function longestWord() that takes a list of words and returns the longest one.\n",
    "\n",
    "def longestWord(string):\n",
    "    split_string=string.split()\n",
    "    initial=0\n",
    "    longword=''\n",
    "    for i in split_string:\n",
    "        if(initial<(len(i))):\n",
    "            t=len(i)\n",
    "            longword=i\n",
    "    return(longword)\n",
    "\n",
    "string =input(\"Please enter your input: \")\n",
    "longword=longestWord(string)\n",
    "print(longword)"
   ]
  },
  {
   "cell_type": "code",
   "execution_count": 6,
   "metadata": {},
   "outputs": [
    {
     "name": "stdout",
     "output_type": "stream",
     "text": [
      "PLease enter the length of one side of traingle: 10\n",
      "PLease enter the length of second side of traingle: 5\n",
      "PLease enter the length of third side of traingle: 10\n",
      "Area of the traingle 24.206145913796355\n"
     ]
    }
   ],
   "source": [
    "#Task 2\n",
    "#1.1Write a Python Program(with class concepts) to find the area of the triangle using the below formula.\n",
    "\n",
    "class triangle:\n",
    "    def length(self):\n",
    "        self.a = int(input(\"PLease enter the length of one side of traingle: \"))\n",
    "        self.b = int(input(\"PLease enter the length of second side of traingle: \"))\n",
    "        self.c = int(input(\"PLease enter the length of third side of traingle: \"))\n",
    "\n",
    "class area(triangle):\n",
    "    def func(self,*args):\n",
    "        s=(self.a+self.b+self.c)/2\n",
    "        area = (s * (s - self.a) * (s - self.b) * (s - self.c)) ** 0.5\n",
    "        return(area)\n",
    "\n",
    "\n",
    "area_obj=area()\n",
    "area_obj.length()\n",
    "print(\"Area of the traingle\", area_obj.func())\n",
    "\n",
    "\n"
   ]
  },
  {
   "cell_type": "code",
   "execution_count": 7,
   "metadata": {},
   "outputs": [
    {
     "name": "stdout",
     "output_type": "stream",
     "text": [
      "Please enter your input: Hello Welcome Muthukrishnan\n",
      "Please enter integer: 6\n",
      "['Welcome', 'Muthukrishnan']\n"
     ]
    }
   ],
   "source": [
    "#1.2 Write a function filter_long_words() that takes a list of words and an integer n\n",
    "#and returns the list of words that are longer than n.\n",
    "\n",
    "def longestWord(split_string,integer):\n",
    "    longword=[]\n",
    "    for i in split_string:\n",
    "        if(len(i)>integer):\n",
    "            longword.append(i)\n",
    "    return(longword)\n",
    "\n",
    "string =input(\"Please enter your input: \")\n",
    "split_string = string.split()\n",
    "integer=int(input(\"Please enter integer: \"))\n",
    "longword=longestWord(split_string,integer)\n",
    "print(longword)"
   ]
  },
  {
   "cell_type": "code",
   "execution_count": 2,
   "metadata": {},
   "outputs": [
    {
     "name": "stdout",
     "output_type": "stream",
     "text": [
      "Please enter your input: abc,de,fghijk\n",
      "[3, 2, 6]\n"
     ]
    }
   ],
   "source": [
    "#2.1 Write a Python program using function concept that maps list of words into a list of integers\n",
    "#representing the lengths of the corresponding words​.\n",
    "\n",
    "def longestWord(split_string):\n",
    "    list_num=[]\n",
    "    for i in split_string:\n",
    "        count=len(i)\n",
    "        list_num.append(count)\n",
    "    return(list_num)\n",
    "\n",
    "string =input(\"Please enter your input: \")\n",
    "string_list = string.split(\",\")\n",
    "list_num=longestWord(string_list)\n",
    "print(list_num)"
   ]
  },
  {
   "cell_type": "code",
   "execution_count": 3,
   "metadata": {},
   "outputs": [
    {
     "name": "stdout",
     "output_type": "stream",
     "text": [
      "Please enter a character: AE\n",
      "Please enter only single character: E\n",
      "E\n",
      "True\n"
     ]
    }
   ],
   "source": [
    "#2.2 Write a Python function which takes a character (i.e. a string of length 1) and returns True if it is a vowel, False otherwise.\n",
    "\n",
    "def vowel_func(char):\n",
    "    upper_char=char.upper()\n",
    "    print(upper_char)\n",
    "    vowel=['A','E','I','O','U']\n",
    "    if(upper_char in vowel):\n",
    "        return True\n",
    "    else:\n",
    "        return False\n",
    "\n",
    "char= input(\"Please enter a character: \")\n",
    "\n",
    "while(len(char)!=1):\n",
    "    char=input(\"Please enter only single character: \")\n",
    "    continue\n",
    "\n",
    "print(vowel_func(char))"
   ]
  },
  {
   "cell_type": "code",
   "execution_count": null,
   "metadata": {},
   "outputs": [],
   "source": []
  }
 ],
 "metadata": {
  "kernelspec": {
   "display_name": "Python 3",
   "language": "python",
   "name": "python3"
  },
  "language_info": {
   "codemirror_mode": {
    "name": "ipython",
    "version": 3
   },
   "file_extension": ".py",
   "mimetype": "text/x-python",
   "name": "python",
   "nbconvert_exporter": "python",
   "pygments_lexer": "ipython3",
   "version": "3.7.6"
  }
 },
 "nbformat": 4,
 "nbformat_minor": 4
}
